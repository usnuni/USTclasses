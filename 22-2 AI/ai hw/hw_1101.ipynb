{
 "cells": [
  {
   "cell_type": "markdown",
   "id": "474249c8",
   "metadata": {},
   "source": [
    "# INput Data and Train Data Shape"
   ]
  },
  {
   "cell_type": "code",
   "execution_count": 21,
   "id": "a8a3f95a",
   "metadata": {},
   "outputs": [],
   "source": [
    "import numpy as np\n",
    "import tensorflow as tf\n",
    "from tensorflow.keras.layers import SimpleRNN, GRU, LSTM, Bidirectional"
   ]
  },
  {
   "cell_type": "code",
   "execution_count": 27,
   "id": "00fed919",
   "metadata": {},
   "outputs": [
    {
     "name": "stdout",
     "output_type": "stream",
     "text": [
      "(4, 5)\n"
     ]
    }
   ],
   "source": [
    "train_X = [[0.1, 4.2, 1.5, 1.1, 2.8], [1.0, 3.1, 2.5, 0.7, 1.1], [0.3, 2.1, 1.5, 2.1, 0.1], [2.2, 1.4, 0.5, 0.9, 1.1]]\n",
    "print(np.shape(train_X))"
   ]
  },
  {
   "cell_type": "code",
   "execution_count": 29,
   "id": "be6097c2",
   "metadata": {},
   "outputs": [
    {
     "name": "stdout",
     "output_type": "stream",
     "text": [
      "(1, 4, 5)\n"
     ]
    }
   ],
   "source": [
    "train_X = np.reshape(train_X, (-1, 4, 5))\n",
    "print(np.shape(train_X))"
   ]
  },
  {
   "cell_type": "markdown",
   "id": "7720d054",
   "metadata": {},
   "source": [
    "# SimpleRNN and Hidden states"
   ]
  },
  {
   "cell_type": "code",
   "execution_count": 30,
   "id": "cc0661b7",
   "metadata": {},
   "outputs": [
    {
     "name": "stdout",
     "output_type": "stream",
     "text": [
      "hidden state :[[-0.9907969   0.9706209  -0.99491644]], shape : (1, 3)\n"
     ]
    }
   ],
   "source": [
    "rnn = SimpleRNN(3)\n",
    "# rnn = SimpleRNN(3, return_sequences=False, return_state=false)  와 동일\n",
    "\n",
    "hidden_state = rnn(train_X)\n",
    "\n",
    "print('hidden state :{}, shape : {}'.format(hidden_state, hidden_state.shape))"
   ]
  },
  {
   "cell_type": "code",
   "execution_count": 31,
   "id": "0dec66e1",
   "metadata": {},
   "outputs": [
    {
     "name": "stdout",
     "output_type": "stream",
     "text": [
      "hidden states :[[[-0.99398255  0.99645585 -0.9985824 ]\n",
      "  [-0.91670173  0.9079279  -0.99392253]\n",
      "  [-0.7953156  -0.49624082 -0.9837846 ]\n",
      "  [-0.96194243  0.77281255 -0.99808496]]], shape : (1, 4, 3)\n"
     ]
    }
   ],
   "source": [
    "rnn = SimpleRNN(3, return_sequences=True)\n",
    "hidden_states = rnn(train_X)\n",
    "\n",
    "print('hidden states :{}, shape : {}'.format(hidden_states, hidden_states.shape))"
   ]
  },
  {
   "cell_type": "markdown",
   "id": "1c01cd5b",
   "metadata": {},
   "source": [
    "# SimpleRNN and Return Sequence"
   ]
  },
  {
   "cell_type": "code",
   "execution_count": 32,
   "id": "cb2aea58",
   "metadata": {},
   "outputs": [
    {
     "name": "stdout",
     "output_type": "stream",
     "text": [
      "hidden states :[[[-0.99398255  0.99645585 -0.9985824 ]\n",
      "  [-0.91670173  0.9079279  -0.99392253]\n",
      "  [-0.7953156  -0.49624082 -0.9837846 ]\n",
      "  [-0.96194243  0.77281255 -0.99808496]]], shape : (1, 4, 3)\n",
      "last hidden state :[[-0.8261083  -0.92994195 -0.9950739 ]], shape : (1, 3)\n"
     ]
    }
   ],
   "source": [
    "rnn = SimpleRNN(3, return_sequences=True, return_state=True)\n",
    "hidden_state, last_state = rnn(train_X)\n",
    "\n",
    "print('hidden states :{}, shape : {}'.format(hidden_states, hidden_states.shape))\n",
    "print('last hidden state :{}, shape : {}'.format(last_state, last_state.shape))"
   ]
  },
  {
   "cell_type": "markdown",
   "id": "f40a5fa8",
   "metadata": {},
   "source": [
    "# SimpleRNN and Return_Sequence"
   ]
  },
  {
   "cell_type": "code",
   "execution_count": 33,
   "id": "d92f83bb",
   "metadata": {},
   "outputs": [
    {
     "name": "stdout",
     "output_type": "stream",
     "text": [
      "hidden state :[[-0.9671581   0.13457406 -0.98929363]], shape : (1, 3)\n",
      "last hidden state :[[-0.9671581   0.13457406 -0.98929363]], shape : (1, 3)\n"
     ]
    }
   ],
   "source": [
    "rnn = SimpleRNN(3, return_sequences=False, return_state=True)\n",
    "hidden_state, last_state = rnn(train_X)\n",
    "\n",
    "print('hidden state :{}, shape : {}'.format(hidden_state, hidden_state.shape))\n",
    "print('last hidden state :{}, shape : {}'.format(last_state, last_state.shape))"
   ]
  },
  {
   "cell_type": "code",
   "execution_count": null,
   "id": "f729c521",
   "metadata": {},
   "outputs": [],
   "source": []
  }
 ],
 "metadata": {
  "kernelspec": {
   "display_name": "Python 3 (ipykernel)",
   "language": "python",
   "name": "python3"
  },
  "language_info": {
   "codemirror_mode": {
    "name": "ipython",
    "version": 3
   },
   "file_extension": ".py",
   "mimetype": "text/x-python",
   "name": "python",
   "nbconvert_exporter": "python",
   "pygments_lexer": "ipython3",
   "version": "3.9.13"
  }
 },
 "nbformat": 4,
 "nbformat_minor": 5
}
