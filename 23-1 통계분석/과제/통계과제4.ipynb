{
  "cells": [
    {
      "cell_type": "code",
      "execution_count": 75,
      "metadata": {
        "colab": {
          "base_uri": "https://localhost:8080/"
        },
        "id": "rhEuA82LmPMh",
        "outputId": "8f164446-45c3-47ea-c121-7c5ea013dc78"
      },
      "outputs": [
        {
          "name": "stdout",
          "output_type": "stream",
          "text": [
            "20 48 15\n",
            "[0.78, 0.79, 0.81, 0.85, 0.86, 0.89, 0.91, 0.92, 0.93, 0.93, 0.94, 0.95, 0.95, 0.96, 0.97, 0.98, 1.0, 1.05, 1.06, 1.1]\n",
            "[40, 46, 47, 48, 49, 50, 50, 50, 50, 50, 50, 50, 51, 51, 52, 52, 53, 53, 53, 53, 53, 53, 54, 54, 55, 55, 55, 55, 55, 55, 55, 56, 56, 57, 57, 57, 57, 57, 59, 59, 61, 62, 62, 63, 63, 64, 64, 68]\n",
            "[33.2, 35.2, 35.2, 35.8, 36.0, 36.2, 36.7, 36.7, 37.3, 38.9, 39.1, 40.1, 40.2, 41.8, 41.8]\n"
          ]
        }
      ],
      "source": [
        "# 데이터 정렬 확인\n",
        "p2 = [0.95, 0.79, 0.91, 0.95, 0.92, 0.86, 1.00, 0.94, 0.85, 0.89, 0.78, 0.98, 0.93, 1.05, 0.93, 1.06, 1.10, 0.97, 0.81, 0.96]\n",
        "p3 = [62, 50, 53, 57, 40, 53, 55, 61, 59, 64, 50, 53, 64, 62, 50, 68, 52, 55, 57, 50, 55, 50, 56, 57, 46, 55, 53, 54, 52, 49, 47, 55, 57, 48, 63, 54, 55, 51, 53, 57, 53, 51, 50, 55, 63, 50, 56, 59]\n",
        "p4 = [33.2, 41.8, 37.3, 40.2, 36.7, 39.1, 36.2, 36.0, 35.2, 36.7, 38.9, 35.8, 35.2, 40.1, 41.8]\n",
        "\n",
        "print(len(p2),len(p3),len(p4))\n",
        "\n",
        "p2.sort(reverse=False)\n",
        "p3.sort(reverse=False)\n",
        "p4.sort(reverse=False)\n",
        "\n",
        "print(p2)\n",
        "print(p3)\n",
        "print(p4)\n"
      ]
    },
    {
      "cell_type": "code",
      "execution_count": 59,
      "metadata": {
        "id": "bq54C9-ZK5VQ"
      },
      "outputs": [],
      "source": [
        "import scipy.stats as stats\n",
        "from scipy.stats import norm\n",
        "import numpy as np\n",
        "import math\n",
        "import matplotlib.pyplot as plt\n",
        "from scipy.optimize import curve_fit\n",
        "import pandas as pd\n"
      ]
    },
    {
      "attachments": {},
      "cell_type": "markdown",
      "metadata": {
        "id": "0o30ECgTNAtb"
      },
      "source": [
        "#Problem_1: Assume that the helium porosity (in percentage) of coal samples taken from any particular seam is normally distributed with true standard deviation .75.\n"
      ]
    },
    {
      "cell_type": "code",
      "execution_count": 40,
      "metadata": {
        "id": "VEd4Q_I9QHzi"
      },
      "outputs": [],
      "source": [
        "mu = 4.85\n",
        "sigma = 0.75"
      ]
    },
    {
      "attachments": {},
      "cell_type": "markdown",
      "metadata": {
        "id": "4pNdQgyrEiIM"
      },
      "source": [
        "#Problem 1_A\n",
        "Compute a 95% confidence interval (CI) for the true average porosity of a certain seam if the average porosity for 20 specimens from the seam was 4.85."
      ]
    },
    {
      "cell_type": "code",
      "execution_count": 41,
      "metadata": {
        "colab": {
          "base_uri": "https://localhost:8080/"
        },
        "id": "xkKYNoDdnBcs",
        "outputId": "2d46c157-a141-4a27-899e-b38dd4c17d6b"
      },
      "outputs": [
        {
          "name": "stdout",
          "output_type": "stream",
          "text": [
            "Lower and upper bound:  (-1.9599639845400545, 1.959963984540054)\n",
            "Confidence interval:  (4.378298492365236, 5.035690397797672)\n"
          ]
        }
      ],
      "source": [
        "\n",
        "n = 20\n",
        "alpha = 0.05\n",
        "\n",
        "population = norm(loc=mu, scale=sigma)\n",
        "sample = population.rvs(size=n)\n",
        "sample_mean = np.mean(sample)\n",
        "\n",
        "rv = norm(loc=0, scale=1.0)\n",
        "\n",
        "lower_bound, upper_bound = rv.ppf(alpha*0.5), rv.ppf(1-alpha*0.5)\n",
        "\n",
        "\n",
        "print(\"Lower and upper bound: \", (lower_bound, upper_bound))\n",
        "print(\"Confidence interval: \", (sample_mean + lower_bound*sigma/np.sqrt(n), sample_mean + upper_bound*sigma/np.sqrt(n)))"
      ]
    },
    {
      "attachments": {},
      "cell_type": "markdown",
      "metadata": {
        "id": "pCAm2klcEu-K"
      },
      "source": [
        "#Problem_1_B\n",
        "Compute a 98% CI for true average porosity of another seam based on 16 specimens with a sample average porosity of 4.56."
      ]
    },
    {
      "cell_type": "code",
      "execution_count": 42,
      "metadata": {
        "colab": {
          "base_uri": "https://localhost:8080/"
        },
        "id": "8FCOzQbKIEzn",
        "outputId": "02b54560-cfbd-4fb9-d05c-0f9093891130"
      },
      "outputs": [
        {
          "name": "stdout",
          "output_type": "stream",
          "text": [
            "Lower and upper bound:  (-2.3263478740408408, 2.3263478740408408)\n",
            "Confidence interval:  (4.586708346111078, 5.459088798876393)\n"
          ]
        }
      ],
      "source": [
        "\n",
        "n = 16\n",
        "alpha = 0.02\n",
        "\n",
        "population = norm(loc=mu, scale=sigma)\n",
        "sample = population.rvs(size=n)\n",
        "sample_mean = np.mean(sample)\n",
        "\n",
        "rv = norm(loc=0, scale=1.0)\n",
        "\n",
        "lower_bound, upper_bound = rv.ppf(alpha*0.5), rv.ppf(1-alpha*0.5)\n",
        "\n",
        "print(\"Lower and upper bound: \", (lower_bound, upper_bound))\n",
        "print(\"Confidence interval: \", (sample_mean + lower_bound*sigma/np.sqrt(n), sample_mean + upper_bound*sigma/np.sqrt(n)))"
      ]
    },
    {
      "attachments": {},
      "cell_type": "markdown",
      "metadata": {
        "id": "38m83rreE7Zp"
      },
      "source": [
        "#Problem_1_C\n",
        "How large a sample size is necessary if the width of the 95% interval is to be .40?"
      ]
    },
    {
      "cell_type": "code",
      "execution_count": 58,
      "metadata": {
        "colab": {
          "base_uri": "https://localhost:8080/"
        },
        "id": "d11auqNnDofS",
        "outputId": "f5b8d292-c4b4-4d38-bca3-ec7cba7285af"
      },
      "outputs": [
        {
          "name": "stdout",
          "output_type": "stream",
          "text": [
            "sample size:  55\n"
          ]
        }
      ],
      "source": [
        "\n",
        "confidence = 0.95 \n",
        "interval_width = 0.40  \n",
        "\n",
        "# Z\n",
        "z_value = stats.norm.ppf((1 + confidence) / 2)\n",
        "\n",
        "# calculate sample size\n",
        "sample_size = math.ceil((z_value * sigma / (interval_width / 2))**2)\n",
        "\n",
        "print(\"sample size: \", sample_size)"
      ]
    },
    {
      "attachments": {},
      "cell_type": "markdown",
      "metadata": {
        "id": "a7Ttdx0ME701"
      },
      "source": [
        "#Problem_1_D\n",
        "What sample size is necessary to estimate true average porosity to within .2 with 99% confidence?"
      ]
    },
    {
      "cell_type": "code",
      "execution_count": 57,
      "metadata": {
        "colab": {
          "base_uri": "https://localhost:8080/"
        },
        "id": "c2beKD_NFMLO",
        "outputId": "254d22c0-c16c-41fc-fbc0-fe5ab7f645a0"
      },
      "outputs": [
        {
          "name": "stdout",
          "output_type": "stream",
          "text": [
            "sample size:  374\n"
          ]
        }
      ],
      "source": [
        "\n",
        "confidence = 0.99\n",
        "interval_width = 0.20  \n",
        "\n",
        "# Z\n",
        "z_value = stats.norm.ppf((1 + confidence) / 2)\n",
        "\n",
        "# calculate sample size\n",
        "sample_size = math.ceil((z_value * sigma / (interval_width / 2))**2)\n",
        "\n",
        "print(\"sample size: \", sample_size)"
      ]
    },
    {
      "attachments": {},
      "cell_type": "markdown",
      "metadata": {
        "id": "WCe3I-k-Ojug"
      },
      "source": [
        "#Problem_2\n",
        "A study of the ability of individuals to walk in a straight line  reported the accompanying data on cadence (strides per second) for a sample of n = 20 randomly selected healthy men. A normal probability plot gives substantial support to the assumption that the population distribution of cadence is approximately normal."
      ]
    },
    {
      "cell_type": "code",
      "execution_count": 45,
      "metadata": {
        "id": "R2cuu20SQXkj"
      },
      "outputs": [],
      "source": [
        "sample_data = [0.95, 0.79, 0.91, 0.95, 0.92, 0.86, 1.00, 0.94, 0.85, 0.89, 0.78, 0.98, 0.93, 1.05, 0.93, 1.06, 1.10, 0.97, 0.81, 0.96]"
      ]
    },
    {
      "attachments": {},
      "cell_type": "markdown",
      "metadata": {
        "id": "zygjeItzOxfY"
      },
      "source": [
        "#Problem_2_A\n",
        "Plot a normal probability plot in order to confirm that the population distribution is approximately normal."
      ]
    },
    {
      "cell_type": "code",
      "execution_count": 61,
      "metadata": {
        "colab": {
          "base_uri": "https://localhost:8080/",
          "height": 873
        },
        "id": "Fs_Jxhg1NyxO",
        "outputId": "625679e2-ee12-459e-b048-8f5d6f83b65e"
      },
      "outputs": [
        {
          "data": {
            "image/png": "[encoded data removed]",
            "text/plain": [
              "<Figure size 500x500 with 1 Axes>"
            ]
          },
          "metadata": {},
          "output_type": "display_data"
        },
        {
          "data": {
            "image/png": "[encoded data removed]",
            "text/plain": [
              "<Figure size 500x500 with 1 Axes>"
            ]
          },
          "metadata": {},
          "output_type": "display_data"
        }
      ],
      "source": [
        "\n",
        "sample_sorted = np.sort(sample_data)\n",
        "n = len(sample_sorted)\n",
        "idx = np.arange(1, 1+len(sample_sorted), 1)\n",
        "sample_percent = (idx-0.5)/n\n",
        "\n",
        "z = norm(loc=0, scale=1.0)\n",
        "percentiles = z.ppf(sample_percent)\n",
        "\n",
        "fig, ax = plt.subplots(1, 1, figsize=(5,5))\n",
        "ax.plot(percentiles, sample_sorted, marker=\"o\", lw=0)\n",
        "\n",
        "plt.show()\n",
        "\n",
        "\n",
        "# curve_fit\n",
        "\n",
        "def func(x, a, b):\n",
        "    return a*x+b\n",
        "\n",
        "popt, pcov = curve_fit(func, percentiles, sample_sorted)\n",
        "\n",
        "y_fitted = func(percentiles, popt[0], popt[1])\n",
        "\n",
        "fig, ax = plt.subplots(1, 1, figsize=(5,5))\n",
        "ax.plot(percentiles, sample_sorted, marker=\"o\", lw=0) \n",
        "ax.plot(percentiles, y_fitted, color=\"red\") \n",
        "\n",
        "plt.show()"
      ]
    },
    {
      "attachments": {},
      "cell_type": "markdown",
      "metadata": {
        "id": "hFlsKovtPP3m"
      },
      "source": [
        "#Problem_2_B\n",
        "Calculate and interpret a 95% confidence interval for population mean cadence."
      ]
    },
    {
      "cell_type": "code",
      "execution_count": 64,
      "metadata": {
        "colab": {
          "base_uri": "https://localhost:8080/"
        },
        "id": "Z8FWFqltODO-",
        "outputId": "02989687-92fc-4132-e6a6-9e2512958cca"
      },
      "outputs": [
        {
          "name": "stdout",
          "output_type": "stream",
          "text": [
            "Lower and upper bound:  (-1.9599639845400545, 1.959963984540054)\n",
            "Confidence interval:  (0.6028040472837819, 1.260195952716218)\n"
          ]
        }
      ],
      "source": [
        "\n",
        "confidence = 0.95\n",
        "alpha = 0.05\n",
        "z_value = stats.norm.ppf((1 + confidence) / 2)\n",
        "n = len(sample_sorted)\n",
        "\n",
        "sample_mean = np.mean(sample_data)\n",
        "\n",
        "rv = norm(loc=0, scale=1.0)\n",
        "\n",
        "lower_bound, upper_bound = rv.ppf(alpha*0.5), rv.ppf(1-alpha*0.5)\n",
        "\n",
        "print(\"Lower and upper bound: \", (lower_bound, upper_bound))\n",
        "print(\"Confidence interval: \", (sample_mean + lower_bound*sigma/np.sqrt(n), sample_mean + upper_bound*sigma/np.sqrt(n)))"
      ]
    },
    {
      "attachments": {},
      "cell_type": "markdown",
      "metadata": {
        "id": "ez4bBDcdPgS7"
      },
      "source": [
        "#Problem_3\n",
        "The alternating current (AC) breakdown voltage of an insulating liquid indicates its dielectric strength. The article “Testing Practices for the AC Breakdown Voltage Testing of Insulation Liquids” gave the accompanying sample observations on breakdown voltage (kV) of a particular circuit under certain conditions.\n"
      ]
    },
    {
      "cell_type": "code",
      "execution_count": 70,
      "metadata": {
        "id": "EzFiUvQjT2dE"
      },
      "outputs": [],
      "source": [
        "sample_data = [62, 50, 53, 57, 40, 53, 55, 61, 59, 64, 50, 53, 64, 62, 50, 68, 52, 55, 57, 50, 55, 50, 56, 57, 46, 55, 53, 54, 52, 49, 47, 55, 57, 48, 63, 54, 55, 51, 53, 57, 53, 51, 50, 55, 63, 50, 56, 59]"
      ]
    },
    {
      "attachments": {},
      "cell_type": "markdown",
      "metadata": {
        "id": "OF_PjbaUPuJo"
      },
      "source": [
        "#Problem_3_A\n",
        "Construct a boxplot of the data to find out possible outliers. Use the Tukey’s fence criterion for outliers."
      ]
    },
    {
      "cell_type": "code",
      "execution_count": 72,
      "metadata": {
        "colab": {
          "base_uri": "https://localhost:8080/",
          "height": 447
        },
        "id": "8A1vE_Y5Pfch",
        "outputId": "29a3aa36-f94a-41c5-aa83-972741fe25bb"
      },
      "outputs": [
        {
          "name": "stderr",
          "output_type": "stream",
          "text": [
            "WARNING:matplotlib.legend:No artists with labels found to put in legend.  Note that artists whose label start with an underscore are ignored when legend() is called with no argument.\n"
          ]
        },
        {
          "data": {
            "image/png": "[encoded data removed]",
            "text/plain": [
              "<Figure size 640x480 with 1 Axes>"
            ]
          },
          "metadata": {},
          "output_type": "display_data"
        }
      ],
      "source": [
        "q1 = np.percentile(sample_data, 25)\n",
        "q3 = np.percentile(sample_data, 75)\n",
        "iqr = q3 - q1\n",
        "lower_fence = q1 - 1.5 * iqr\n",
        "upper_fence = q3 + 1.5 * iqr\n",
        "\n",
        "outliers = [x for x in sample_data if x < lower_fence or x > upper_fence]\n",
        "\n",
        "plt.boxplot(sample_data)\n",
        "\n",
        "plt.plot(np.ones(len(outliers)), outliers, 'ro')\n",
        "plt.legend()\n",
        "plt.show()"
      ]
    },
    {
      "cell_type": "code",
      "execution_count": 74,
      "metadata": {
        "colab": {
          "base_uri": "https://localhost:8080/",
          "height": 951
        },
        "id": "YJMvIgnKWYNK",
        "outputId": "0bf0d7d0-b6a6-4a70-b572-f090e0e6bd15"
      },
      "outputs": [
        {
          "data": {
            "text/plain": [
              "<Axes: >"
            ]
          },
          "execution_count": 74,
          "metadata": {},
          "output_type": "execute_result"
        },
        {
          "name": "stderr",
          "output_type": "stream",
          "text": [
            "WARNING:matplotlib.font_manager:findfont: Font family 'NanumGothic' not found.\n",
            "WARNING:matplotlib.font_manager:findfont: Font family 'NanumGothic' not found.\n",
            "WARNING:matplotlib.font_manager:findfont: Font family 'NanumGothic' not found.\n",
            "WARNING:matplotlib.font_manager:findfont: Font family 'NanumGothic' not found.\n",
            "WARNING:matplotlib.font_manager:findfont: Font family 'NanumGothic' not found.\n",
            "WARNING:matplotlib.font_manager:findfont: Font family 'NanumGothic' not found.\n",
            "WARNING:matplotlib.font_manager:findfont: Font family 'NanumGothic' not found.\n",
            "WARNING:matplotlib.font_manager:findfont: Font family 'NanumGothic' not found.\n",
            "WARNING:matplotlib.font_manager:findfont: Font family 'NanumGothic' not found.\n",
            "WARNING:matplotlib.font_manager:findfont: Font family 'NanumGothic' not found.\n",
            "WARNING:matplotlib.font_manager:findfont: Font family 'NanumGothic' not found.\n",
            "WARNING:matplotlib.font_manager:findfont: Font family 'NanumGothic' not found.\n",
            "WARNING:matplotlib.font_manager:findfont: Font family 'NanumGothic' not found.\n",
            "WARNING:matplotlib.font_manager:findfont: Font family 'NanumGothic' not found.\n",
            "WARNING:matplotlib.font_manager:findfont: Font family 'NanumGothic' not found.\n",
            "WARNING:matplotlib.font_manager:findfont: Font family 'NanumGothic' not found.\n",
            "WARNING:matplotlib.font_manager:findfont: Font family 'NanumGothic' not found.\n",
            "WARNING:matplotlib.font_manager:findfont: Font family 'NanumGothic' not found.\n",
            "WARNING:matplotlib.font_manager:findfont: Font family 'NanumGothic' not found.\n",
            "WARNING:matplotlib.font_manager:findfont: Font family 'NanumGothic' not found.\n",
            "WARNING:matplotlib.font_manager:findfont: Font family 'NanumGothic' not found.\n",
            "WARNING:matplotlib.font_manager:findfont: Font family 'NanumGothic' not found.\n",
            "WARNING:matplotlib.font_manager:findfont: Font family 'NanumGothic' not found.\n",
            "WARNING:matplotlib.font_manager:findfont: Font family 'NanumGothic' not found.\n",
            "WARNING:matplotlib.font_manager:findfont: Font family 'NanumGothic' not found.\n",
            "WARNING:matplotlib.font_manager:findfont: Font family 'NanumGothic' not found.\n",
            "WARNING:matplotlib.font_manager:findfont: Font family 'NanumGothic' not found.\n",
            "WARNING:matplotlib.font_manager:findfont: Font family 'NanumGothic' not found.\n",
            "WARNING:matplotlib.font_manager:findfont: Font family 'NanumGothic' not found.\n",
            "WARNING:matplotlib.font_manager:findfont: Font family 'NanumGothic' not found.\n"
          ]
        },
        {
          "data": {
            "image/png": "[encoded data removed]",
            "text/plain": [
              "<Figure size 640x480 with 1 Axes>"
            ]
          },
          "metadata": {},
          "output_type": "display_data"
        }
      ],
      "source": [
        "\n",
        "df = pd.DataFrame(data=sample_data)\n",
        "df.boxplot()"
      ]
    },
    {
      "attachments": {},
      "cell_type": "markdown",
      "metadata": {
        "id": "G6IG6mT-PzPV"
      },
      "source": [
        "#Problem_3_B\n",
        "Calculate and interpret a 95% confidence interval (CI) for true average breakdown voltage m.\n",
        "\n"
      ]
    },
    {
      "cell_type": "code",
      "execution_count": 76,
      "metadata": {
        "colab": {
          "base_uri": "https://localhost:8080/"
        },
        "id": "PY7SjZ2RPfad",
        "outputId": "b11039c8-7158-47d4-fb70-f2064e9e2bf6"
      },
      "outputs": [
        {
          "name": "stdout",
          "output_type": "stream",
          "text": [
            "Lower and upper bound:  (-1.9599639845400545, 1.959963984540054)\n",
            "Confidence interval:  (54.23380404728378, 54.89119595271622)\n"
          ]
        }
      ],
      "source": [
        "\n",
        "confidence = 0.95\n",
        "alpha = 0.05\n",
        "z_value = stats.norm.ppf((1 + confidence) / 2)\n",
        "n = len(sample_sorted)\n",
        "\n",
        "sample_mean = np.mean(sample_data)\n",
        "\n",
        "rv = norm(loc=0, scale=1.0)\n",
        "\n",
        "lower_bound, upper_bound = rv.ppf(alpha*0.5), rv.ppf(1-alpha*0.5)\n",
        "\n",
        "print(\"Lower and upper bound: \", (lower_bound, upper_bound))\n",
        "print(\"Confidence interval: \", (sample_mean + lower_bound*sigma/np.sqrt(n), sample_mean + upper_bound*sigma/np.sqrt(n)))"
      ]
    },
    {
      "attachments": {},
      "cell_type": "markdown",
      "metadata": {
        "id": "-6tYp_VNP0P2"
      },
      "source": [
        "#Problem_3_C\n",
        "Suppose the investigator believes that virtually all values of breakdown voltage are between 40 and 70. What sample size would be appropriate for the 95% CI to have a width of 2 kV?"
      ]
    },
    {
      "cell_type": "code",
      "execution_count": 69,
      "metadata": {
        "colab": {
          "base_uri": "https://localhost:8080/"
        },
        "id": "XGLVt1gOPfX7",
        "outputId": "97a8ee3e-8279-47b0-8497-5c8f8d34f541"
      },
      "outputs": [
        {
          "name": "stdout",
          "output_type": "stream",
          "text": [
            "sample size:  2068.8086610515393\n"
          ]
        }
      ],
      "source": [
        "\n",
        "confidence = 0.92\n",
        "interval_width = 2  \n",
        "min_value = 40  \n",
        "max_value = 70  \n",
        "\n",
        "z_value = stats.norm.ppf((1 + confidence) / 2)\n",
        "\n",
        "standard_deviation = interval_width / (2*z_value)\n",
        "\n",
        "sample_size = ((max_value - min_value) / (2 * standard_deviation / np.sqrt(3))) ** 2\n",
        "\n",
        "print(\"sample size: \", sample_size)"
      ]
    },
    {
      "attachments": {},
      "cell_type": "markdown",
      "metadata": {
        "id": "RQAJXe9qYBsz"
      },
      "source": [
        "#Problem_4\n",
        "The article “Concrete Pressure on Formwork” (Mag. of Concrete Res., 2009: 407–417) gave the following observations on maximum concrete pressure (kN/m2)"
      ]
    },
    {
      "cell_type": "code",
      "execution_count": 77,
      "metadata": {
        "id": "jcvtGL5-PfVm"
      },
      "outputs": [],
      "source": [
        "sample_data = [33.2, 41.8, 37.3, 40.2, 36.7, 39.1, 36.2, 36.0, 35.2, 36.7, 38.9, 35.8, 35.2, 40.1, 41.8]"
      ]
    },
    {
      "attachments": {},
      "cell_type": "markdown",
      "metadata": {
        "id": "fJM8EGKgYnVI"
      },
      "source": [
        "#Problem_4_A\n",
        "Is it plausible that this sample was selected from a normal population distribution?\n",
        "\n",
        "\n",
        "\n",
        ": 일반적으로 p_value가 0.05 이상이면 정규 분포를 가정할 수 있기 때문에 이는 정규분포를 따랐다고 볼 수 있다."
      ]
    },
    {
      "cell_type": "code",
      "execution_count": 82,
      "metadata": {
        "colab": {
          "base_uri": "https://localhost:8080/"
        },
        "id": "WcpWI9t4YL6e",
        "outputId": "8f36193a-1af6-4712-aab5-b39baa7dd1e5"
      },
      "outputs": [
        {
          "name": "stdout",
          "output_type": "stream",
          "text": [
            "Shapiro-Wilk test p-value: 0.43871933221817017\n"
          ]
        }
      ],
      "source": [
        "statistic, p_value = stats.shapiro(sample_data)\n",
        "\n",
        "print(\"Shapiro-Wilk test p-value:\", p_value)"
      ]
    },
    {
      "attachments": {},
      "cell_type": "markdown",
      "metadata": {
        "id": "dSdQ8JzSYtVu"
      },
      "source": [
        "#Problem_4_B\n",
        "Calculate the confidence interval with confidence level 95% for the population standard deviation of maximum pressure."
      ]
    },
    {
      "cell_type": "code",
      "execution_count": 83,
      "metadata": {
        "colab": {
          "base_uri": "https://localhost:8080/"
        },
        "id": "ZIIhLo60YQDG",
        "outputId": "81bde0b2-789a-4d6b-c0fe-16c4c7ad086e"
      },
      "outputs": [
        {
          "name": "stdout",
          "output_type": "stream",
          "text": [
            "Lower and upper bound:  (-1.9599639845400545, 1.959963984540054)\n",
            "Confidence interval:  (37.28463738061711, 37.94202928604955)\n"
          ]
        }
      ],
      "source": [
        "confidence = 0.95\n",
        "alpha = 0.05\n",
        "z_value = stats.norm.ppf((1 + confidence) / 2)\n",
        "n = len(sample_sorted)\n",
        "\n",
        "sample_mean = np.mean(sample_data)\n",
        "\n",
        "rv = norm(loc=0, scale=1.0)\n",
        "\n",
        "lower_bound, upper_bound = rv.ppf(alpha*0.5), rv.ppf(1-alpha*0.5)\n",
        "\n",
        "print(\"Lower and upper bound: \", (lower_bound, upper_bound))\n",
        "print(\"Confidence interval: \", (sample_mean + lower_bound*sigma/np.sqrt(n), sample_mean + upper_bound*sigma/np.sqrt(n)))"
      ]
    },
    {
      "attachments": {},
      "cell_type": "markdown",
      "metadata": {},
      "source": [
        "# comment\n",
        "\n",
        "1. 이 문제는 sample = population.rvs(size=n)를 이용하여 직접 sampling을 하는 문제가 아닙니다. 문제에 sample mean이 주어져 있습니다. 주어진 sample mean으로 구간추정을 하는 것입니다. 그래서 추정하신 구간값이 틀립니다. (-2)\n",
        "\n",
        "2.  sample std를 계산하지 않으셨습니다. np.std과 ddof=1 옵션을 사용하여 sample std를 직접 계산하셔야 합니다. (-1)\n",
        "\n",
        "3. B: 2번과 마찬가지로 sample std를 계산하지 않으셨습니다. (-1)\n",
        "3. C: 샘플사이즈가 많이 다릅니다. 100~110정도가 나와야 합니다. (-1)\n",
        "\n",
        "4. 수업시간에 다루지 않은 Shapiro test를 하셨네요. 이 문제는 population variance의 구간을 추정하는 문제입니다. population mean의 구간을 추정하셨네요. \n"
      ]
    },
    {
      "attachments": {},
      "cell_type": "markdown",
      "metadata": {},
      "source": []
    }
  ],
  "metadata": {
    "colab": {
      "provenance": []
    },
    "kernelspec": {
      "display_name": "Python 3",
      "name": "python3"
    },
    "language_info": {
      "name": "python"
    }
  },
  "nbformat": 4,
  "nbformat_minor": 0
}
