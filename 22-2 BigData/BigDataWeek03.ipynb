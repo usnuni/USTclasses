{
 "cells": [
  {
   "cell_type": "code",
   "execution_count": 1,
   "id": "b95426da",
   "metadata": {},
   "outputs": [
    {
     "name": "stdout",
     "output_type": "stream",
     "text": [
      "How are u?\n"
     ]
    }
   ],
   "source": [
    "# input\n",
    "imVariable = input()"
   ]
  },
  {
   "cell_type": "code",
   "execution_count": 2,
   "id": "54381b92",
   "metadata": {},
   "outputs": [
    {
     "name": "stdout",
     "output_type": "stream",
     "text": [
      "Typr Here : How are you .. ?\n"
     ]
    }
   ],
   "source": [
    "# input2\n",
    "imVariable2 = input('Typr Here : ')"
   ]
  },
  {
   "cell_type": "code",
   "execution_count": 3,
   "id": "fffe79d8",
   "metadata": {},
   "outputs": [
    {
     "name": "stdout",
     "output_type": "stream",
     "text": [
      "How are you .. ?\n"
     ]
    }
   ],
   "source": [
    "# print\n",
    "print(imVariable2)"
   ]
  },
  {
   "cell_type": "code",
   "execution_count": 4,
   "id": "ae2f6058",
   "metadata": {},
   "outputs": [
    {
     "name": "stdout",
     "output_type": "stream",
     "text": [
      "How are you?\n",
      "Fine thank you, and you?\n"
     ]
    }
   ],
   "source": [
    "# if\n",
    "imVariable3 = input()\n",
    "if imVariable3 == 'How are you?' :\n",
    "    print('Fine thank you, and you?')"
   ]
  },
  {
   "cell_type": "code",
   "execution_count": 5,
   "id": "8eafb05c",
   "metadata": {},
   "outputs": [
    {
     "name": "stdout",
     "output_type": "stream",
     "text": [
      "Typr Here : how are you?\n",
      "Answer : Fine thank you, and you?\n"
     ]
    }
   ],
   "source": [
    "# if - elif \n",
    "imVariable4 = input('Typr Here : ')\n",
    "answer = 'Fine thank you, and you?'\n",
    "if imVariable4 == 'How are you?' :\n",
    "    print('Answer : '+answer)\n",
    "elif imVariable4 == 'how are you?' :\n",
    "    print('Answer : '+answer)"
   ]
  },
  {
   "cell_type": "code",
   "execution_count": 7,
   "id": "faf0cc4c",
   "metadata": {},
   "outputs": [
    {
     "name": "stdout",
     "output_type": "stream",
     "text": [
      "Typr Here : how are you?\n",
      "Answer2 : Fine thank you, and you?\n"
     ]
    }
   ],
   "source": [
    "# if - elif 2\n",
    "imVariable5 = input('Typr Here : ')\n",
    "answer2 = 'Fine thank you, and you?'\n",
    "if imVariable5 == 'How are you?' or imVariable5 == 'how are you?' :\n",
    "    print('Answer2 : '+answer2)"
   ]
  },
  {
   "cell_type": "code",
   "execution_count": 8,
   "id": "d38e87c9",
   "metadata": {},
   "outputs": [
    {
     "name": "stdout",
     "output_type": "stream",
     "text": [
      "Typr Here : HOW ARE YOU?\n",
      "Answer3 : Fine thank you, and you?\n"
     ]
    }
   ],
   "source": [
    "# if - elif 3\n",
    "imVariable6 = input('Typr Here : ')\n",
    "imVariable6 = imVariable6.lower()\n",
    "answer3 = 'Fine thank you, and you?'\n",
    "if imVariable6 == 'how are you?' :\n",
    "    print('Answer3 : '+answer3)"
   ]
  },
  {
   "cell_type": "code",
   "execution_count": 10,
   "id": "47eb74fb",
   "metadata": {},
   "outputs": [
    {
     "name": "stdout",
     "output_type": "stream",
     "text": [
      "Type here: how do you do?\n",
      "Wrong question, sorry\n"
     ]
    }
   ],
   "source": [
    "# if - elif - else\n",
    "imVariable7 = input('Type here: ')\n",
    "answer4 = 'Fine thank you, and you?'\n",
    "if imVariable7 == 'How are you?':\n",
    "    print(answer4)\n",
    "elif imVariable7 == 'how are you?':\n",
    "    print(answer4)\n",
    "else:\n",
    "    print('Wrong question, sorry')"
   ]
  },
  {
   "cell_type": "code",
   "execution_count": 12,
   "id": "e838177d",
   "metadata": {},
   "outputs": [],
   "source": [
    "# open\n",
    "handle = open('readMe.txt', 'r')\n",
    "handle.close()"
   ]
  },
  {
   "cell_type": "code",
   "execution_count": 13,
   "id": "490da666",
   "metadata": {},
   "outputs": [
    {
     "name": "stdout",
     "output_type": "stream",
     "text": [
      "This is a file for reading practice in big data class.\n",
      "\n",
      "The sentence you are looking for is..\n",
      "\n",
      "Hello ari !\n",
      "\n"
     ]
    }
   ],
   "source": [
    "# for~ in~\n",
    "handle2 = open('readMe.txt', 'r')\n",
    "for line in handle2 :\n",
    "    print(line)\n",
    "handle2.close()"
   ]
  },
  {
   "cell_type": "code",
   "execution_count": 16,
   "id": "25254653",
   "metadata": {},
   "outputs": [
    {
     "name": "stdout",
     "output_type": "stream",
     "text": [
      "line : Hello ari ! matched to a : Hello ari !\n"
     ]
    }
   ],
   "source": [
    "# Sample script\n",
    "a = 'Hello ari !'\n",
    "handle3 = open('readMe.txt', 'r')\n",
    "for line in handle3 :\n",
    "    line = line.strip()  \n",
    "    if line == a :\n",
    "        print('line : ' + line + ' matched to a : ' + a)\n",
    "handle3.close()"
   ]
  },
  {
   "cell_type": "code",
   "execution_count": null,
   "id": "6b4015b9",
   "metadata": {},
   "outputs": [],
   "source": []
  },
  {
   "cell_type": "code",
   "execution_count": null,
   "id": "7d8e71bc",
   "metadata": {},
   "outputs": [],
   "source": []
  },
  {
   "cell_type": "code",
   "execution_count": null,
   "id": "a3299c02",
   "metadata": {},
   "outputs": [],
   "source": []
  },
  {
   "cell_type": "code",
   "execution_count": 1,
   "id": "aef6861c",
   "metadata": {},
   "outputs": [],
   "source": [
    "import pymysql\n"
   ]
  },
  {
   "cell_type": "code",
   "execution_count": 2,
   "id": "c320c3d3",
   "metadata": {},
   "outputs": [],
   "source": [
    "host = 'mysql.ari.com'\n",
    "port = 3306\n",
    "database = 'ari_DB'\n",
    "username = 'ari'\n",
    "password = 'dps6ra'"
   ]
  },
  {
   "cell_type": "code",
   "execution_count": 5,
   "id": "c9fc5828",
   "metadata": {},
   "outputs": [
    {
     "ename": "TypeError",
     "evalue": "__init__() takes 1 positional argument but 2 positional arguments (and 5 keyword-only arguments) were given",
     "output_type": "error",
     "traceback": [
      "\u001b[0;31m---------------------------------------------------------------------------\u001b[0m",
      "\u001b[0;31mTypeError\u001b[0m                                 Traceback (most recent call last)",
      "\u001b[0;32m/tmp/ipykernel_10778/3376620773.py\u001b[0m in \u001b[0;36m<module>\u001b[0;34m\u001b[0m\n\u001b[0;32m----> 1\u001b[0;31m \u001b[0mconn\u001b[0m \u001b[0;34m=\u001b[0m \u001b[0mpymysql\u001b[0m\u001b[0;34m.\u001b[0m\u001b[0mconnect\u001b[0m\u001b[0;34m(\u001b[0m\u001b[0mhost\u001b[0m\u001b[0;34m,\u001b[0m \u001b[0muser\u001b[0m\u001b[0;34m=\u001b[0m\u001b[0musername\u001b[0m\u001b[0;34m,\u001b[0m \u001b[0mpasswd\u001b[0m\u001b[0;34m=\u001b[0m\u001b[0mpassword\u001b[0m\u001b[0;34m,\u001b[0m \u001b[0mdb\u001b[0m\u001b[0;34m=\u001b[0m\u001b[0mdatabase\u001b[0m\u001b[0;34m,\u001b[0m \u001b[0mport\u001b[0m\u001b[0;34m=\u001b[0m\u001b[0mport\u001b[0m\u001b[0;34m,\u001b[0m \u001b[0mcharset\u001b[0m\u001b[0;34m=\u001b[0m\u001b[0;34m'utf8'\u001b[0m\u001b[0;34m)\u001b[0m\u001b[0;34m\u001b[0m\u001b[0;34m\u001b[0m\u001b[0m\n\u001b[0m",
      "\u001b[0;31mTypeError\u001b[0m: __init__() takes 1 positional argument but 2 positional arguments (and 5 keyword-only arguments) were given"
     ]
    }
   ],
   "source": [
    "conn = pymysql.connect(host, user=username, passwd=password, db=database, port=port,\n",
    "use_Unicode=True, charset='utf8')"
   ]
  },
  {
   "cell_type": "code",
   "execution_count": 13,
   "id": "6a955dfa",
   "metadata": {},
   "outputs": [],
   "source": [
    "import MySQLdb\n",
    "\n",
    "conn= MySQLdb.connect(\n",
    "    user='root',\n",
    "    passwd='dps6ra',\n",
    "    host='localhost',\n",
    "    db='mysql' \n",
    ")\n",
    "\n",
    "cur=conn.cursor()\n",
    "conn.commit()\n",
    "conn.close()\n"
   ]
  },
  {
   "cell_type": "code",
   "execution_count": null,
   "id": "87f3e1e7",
   "metadata": {},
   "outputs": [],
   "source": [
    "\n",
    "\n",
    "cur.execute('select \"haha\",3')\n",
    "for row in cur.fetchall():\n",
    "   print(row) "
   ]
  },
  {
   "cell_type": "code",
   "execution_count": null,
   "id": "fee8556a",
   "metadata": {},
   "outputs": [],
   "source": []
  },
  {
   "cell_type": "code",
   "execution_count": 16,
   "id": "3d192418",
   "metadata": {},
   "outputs": [],
   "source": [
    "influTable = \"ncbi_swiInflu_20210501\"\n",
    "targetSubtype = \"h3n2\"\n",
    "targetGene = \"ha\"\n",
    "targetYear = \"2022\""
   ]
  },
  {
   "cell_type": "code",
   "execution_count": 20,
   "id": "76a063d7",
   "metadata": {},
   "outputs": [],
   "source": [
    "query = \"SELECT * FROM \" + influTable + \" where gene = '\" + targetGene + \"' and subtype = '\" + targetSubtype + \"' and year = \" + targetYear + \" order by region, country\""
   ]
  },
  {
   "cell_type": "code",
   "execution_count": null,
   "id": "02056259",
   "metadata": {},
   "outputs": [],
   "source": []
  }
 ],
 "metadata": {
  "kernelspec": {
   "display_name": "Python 3 (ipykernel)",
   "language": "python",
   "name": "python3"
  },
  "language_info": {
   "codemirror_mode": {
    "name": "ipython",
    "version": 3
   },
   "file_extension": ".py",
   "mimetype": "text/x-python",
   "name": "python",
   "nbconvert_exporter": "python",
   "pygments_lexer": "ipython3",
   "version": "3.9.13"
  }
 },
 "nbformat": 4,
 "nbformat_minor": 5
}
