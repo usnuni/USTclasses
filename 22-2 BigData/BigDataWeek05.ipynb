{
 "cells": [
  {
   "cell_type": "code",
   "execution_count": 6,
   "id": "34ebeb3a",
   "metadata": {},
   "outputs": [],
   "source": [
    "import pymysql"
   ]
  },
  {
   "cell_type": "code",
   "execution_count": 7,
   "id": "bd6964ca",
   "metadata": {},
   "outputs": [],
   "source": [
    "\n",
    "host = \"mysql.ari.com\"\n",
    "port = 3306\n",
    "database = \"ari_DB\"\n",
    "username = \"ari\"\n",
    "password = \"dps6ra\"\n"
   ]
  },
  {
   "cell_type": "code",
   "execution_count": 15,
   "id": "b26d27e1",
   "metadata": {},
   "outputs": [
    {
     "ename": "TypeError",
     "evalue": "__init__() got an unexpected keyword argument 'use_Unicode'",
     "output_type": "error",
     "traceback": [
      "\u001b[0;31m---------------------------------------------------------------------------\u001b[0m",
      "\u001b[0;31mTypeError\u001b[0m                                 Traceback (most recent call last)",
      "Input \u001b[0;32mIn [15]\u001b[0m, in \u001b[0;36m<cell line: 1>\u001b[0;34m()\u001b[0m\n\u001b[0;32m----> 1\u001b[0m conn \u001b[38;5;241m=\u001b[39m \u001b[43mpymysql\u001b[49m\u001b[38;5;241;43m.\u001b[39;49m\u001b[43mconnect\u001b[49m\u001b[43m(\u001b[49m\u001b[43mhost\u001b[49m\u001b[43m,\u001b[49m\u001b[43m \u001b[49m\u001b[43muser\u001b[49m\u001b[38;5;241;43m=\u001b[39;49m\u001b[43musername\u001b[49m\u001b[43m,\u001b[49m\u001b[43m \u001b[49m\u001b[43mpasswd\u001b[49m\u001b[38;5;241;43m=\u001b[39;49m\u001b[43mpassword\u001b[49m\u001b[43m,\u001b[49m\u001b[43m \u001b[49m\u001b[43mdb\u001b[49m\u001b[38;5;241;43m=\u001b[39;49m\u001b[43mdatabase\u001b[49m\u001b[43m,\u001b[49m\u001b[43m \u001b[49m\u001b[43mport\u001b[49m\u001b[38;5;241;43m=\u001b[39;49m\u001b[43mport\u001b[49m\u001b[43m,\u001b[49m\u001b[43m \u001b[49m\u001b[43muse_Unicode\u001b[49m\u001b[38;5;241;43m=\u001b[39;49m\u001b[38;5;28;43;01mTrue\u001b[39;49;00m\u001b[43m,\u001b[49m\u001b[43m \u001b[49m\u001b[43mcharset\u001b[49m\u001b[38;5;241;43m=\u001b[39;49m\u001b[38;5;124;43m'\u001b[39;49m\u001b[38;5;124;43mutf8\u001b[39;49m\u001b[38;5;124;43m'\u001b[39;49m\u001b[43m)\u001b[49m\n",
      "\u001b[0;31mTypeError\u001b[0m: __init__() got an unexpected keyword argument 'use_Unicode'"
     ]
    }
   ],
   "source": [
    "conn = pymysql.connect(host, user=username, passwd=password, db=database, port=port, use_Unicode=True, charset='utf8')\n"
   ]
  },
  {
   "cell_type": "code",
   "execution_count": 16,
   "id": "97cfb9a9",
   "metadata": {},
   "outputs": [
    {
     "ename": "ModuleNotFoundError",
     "evalue": "No module named 'pandas_datareader'",
     "output_type": "error",
     "traceback": [
      "\u001b[0;31m---------------------------------------------------------------------------\u001b[0m",
      "\u001b[0;31mModuleNotFoundError\u001b[0m                       Traceback (most recent call last)",
      "Input \u001b[0;32mIn [16]\u001b[0m, in \u001b[0;36m<cell line: 1>\u001b[0;34m()\u001b[0m\n\u001b[0;32m----> 1\u001b[0m \u001b[38;5;28;01mimport\u001b[39;00m \u001b[38;5;21;01mpandas_datareader\u001b[39;00m \u001b[38;5;28;01mas\u001b[39;00m \u001b[38;5;21;01mdata\u001b[39;00m\n\u001b[1;32m      2\u001b[0m \u001b[38;5;28;01mimport\u001b[39;00m \u001b[38;5;21;01mdatetime\u001b[39;00m\n\u001b[1;32m      3\u001b[0m start_date \u001b[38;5;241m=\u001b[39m datetime\u001b[38;5;241m.\u001b[39mdatetime(\u001b[38;5;241m2020\u001b[39m,\u001b[38;5;241m1\u001b[39m,\u001b[38;5;241m10\u001b[39m)\n",
      "\u001b[0;31mModuleNotFoundError\u001b[0m: No module named 'pandas_datareader'"
     ]
    }
   ],
   "source": [
    "import pandas_datareader as data\n",
    "import datetime\n",
    "start_date = datetime.datetime(2020,1,10)\n",
    "end_date = datetime.datetime(2021,9,20)\n",
    "google_data = data.DataReader('GOOGL','yahoo', start_date, end_date)\n",
    "print(google_data.head(9))\n",
    "\n",
    "# 실패"
   ]
  },
  {
   "cell_type": "code",
   "execution_count": 17,
   "id": "7b333d17",
   "metadata": {},
   "outputs": [
    {
     "name": "stdout",
     "output_type": "stream",
     "text": [
      "         회사명    종목코드           업종  \\\n",
      "0         DL     210       기타 금융업   \n",
      "1      DRB동일    4840     고무제품 제조업   \n",
      "2        DSR  155660  1차 비철금속 제조업   \n",
      "3         GS   78930       기타 금융업   \n",
      "4  HDC현대산업개발  294870       건물 건설업   \n",
      "5      KG케미칼    1390  기초 화학물질 제조업   \n",
      "6     KPX케미칼   25000  기초 화학물질 제조업   \n",
      "7      KSS해운   44450       해상 운송업   \n",
      "8       KTis   58860   기타 정보 서비스업   \n",
      "\n",
      "                                                주요제품         상장일  결산월  \\\n",
      "0                                               지주회사  1976-02-02  12월   \n",
      "1                  고무벨트(V벨트,콘베이어벨트,평벨트),프라스틱제품 제조,판매  1976-05-21  12월   \n",
      "2                                             합섬섬유로프  2013-05-15  12월   \n",
      "3                                        지주회사/부동산 임대  2004-08-05  12월   \n",
      "4                             외주주택, 자체공사, 일반건축, 토목 등  2018-06-12  12월   \n",
      "5                          콘크리트혼화제, 비료, 친환경농자재, 수처리제  1989-08-25  12월   \n",
      "6  PPG,PU RESIN,우레탄수지,대향막박리재,반도체 CM PAD,Polyether...  1994-12-27  12월   \n",
      "7         특수화물해상운송(액화가스,LPG,암모니아,VCM,석유화학제품 등), 선박대여  2007-10-26  12월   \n",
      "8                                    114전화번호안내, 고객센터  2010-12-17  12월   \n",
      "\n",
      "                      대표자명                         홈페이지     지역  \n",
      "0                      전병욱  http://www.dlholdings.co.kr  서울특별시  \n",
      "1                      류영식          http://drbworld.com  부산광역시  \n",
      "2                      홍석빈           http://www.dsr.com  부산광역시  \n",
      "3       허태수, 홍순기 (각자 대표이사)                          NaN  서울특별시  \n",
      "4  최익훈, 정익희, 김회언 (각자 대표이사)       http://www.hdc-dvp.com  서울특별시  \n",
      "5                 곽정현, 김재익      http://www.kgchem.co.kr  울산광역시  \n",
      "6    양준영, 최재호, 이찬수(각자대표이사)   http://www.kpxchemical.com  서울특별시  \n",
      "7                      이승우       http://www.kssline.com  서울특별시  \n",
      "8                      윤경근        http://www.ktis.co.kr  서울특별시  \n"
     ]
    }
   ],
   "source": [
    "# downlooad kospi list\n",
    "import pandas as pd\n",
    "kospicode = pd.read_html('https://kind.krx.co.kr/corpgeneral/corpList.do?method=download&marketType=stockMkt', header=0)[0]\n",
    "print(kospicode.head(9))"
   ]
  },
  {
   "cell_type": "code",
   "execution_count": 34,
   "id": "1a5d49f9",
   "metadata": {},
   "outputs": [],
   "source": [
    "kospicode.to_csv(\"kospicode.csv\", index = False)"
   ]
  },
  {
   "cell_type": "code",
   "execution_count": 37,
   "id": "4ae835c6",
   "metadata": {},
   "outputs": [
    {
     "name": "stdout",
     "output_type": "stream",
     "text": [
      "            회사명    종목코드              업종  \\\n",
      "0            DL     210          기타 금융업   \n",
      "1         DRB동일    4840        고무제품 제조업   \n",
      "2           DSR  155660     1차 비철금속 제조업   \n",
      "3            GS   78930          기타 금융업   \n",
      "4     HDC현대산업개발  294870          건물 건설업   \n",
      "..          ...     ...             ...   \n",
      "818        현대위아   11210   자동차 신품 부품 제조업   \n",
      "819     현대코퍼레이션   11760       상품 종합 도매업   \n",
      "820  현대코퍼레이션홀딩스  227840  음·식료품 및 담배 도매업   \n",
      "821          화신   10690   자동차 신품 부품 제조업   \n",
      "822        흥아해운    3280          해상 운송업   \n",
      "\n",
      "                                                주요제품         상장일  결산월  \\\n",
      "0                                               지주회사  1976-02-02  12월   \n",
      "1                  고무벨트(V벨트,콘베이어벨트,평벨트),프라스틱제품 제조,판매  1976-05-21  12월   \n",
      "2                                             합섬섬유로프  2013-05-15  12월   \n",
      "3                                        지주회사/부동산 임대  2004-08-05  12월   \n",
      "4                             외주주택, 자체공사, 일반건축, 토목 등  2018-06-12  12월   \n",
      "..                                               ...         ...  ...   \n",
      "818                                    자동차부품, 공작기계 등  2011-02-21  12월   \n",
      "819  자동차,철강,기계,선박,플랜트,컴퓨터,전자제품 수출,수출입대행/자원(탄광,유전) 개발  1977-12-01  12월   \n",
      "820                                      브랜드사업, 육류유통  2015-10-23  12월   \n",
      "821                    자동차엔진부품(ARM류,C/MBR류),자동차부품 제조  1994-01-14  12월   \n",
      "822                                   외항화물운송업(케미컬탱커)  1976-06-29  12월   \n",
      "\n",
      "                        대표자명                                홈페이지     지역  \n",
      "0                        전병욱         http://www.dlholdings.co.kr  서울특별시  \n",
      "1                        류영식                 http://drbworld.com  부산광역시  \n",
      "2                        홍석빈                  http://www.dsr.com  부산광역시  \n",
      "3         허태수, 홍순기 (각자 대표이사)                                 NaN  서울특별시  \n",
      "4    최익훈, 정익희, 김회언 (각자 대표이사)              http://www.hdc-dvp.com  서울특별시  \n",
      "..                       ...                                 ...    ...  \n",
      "818                      정재욱          http://www.hyundai-wia.com   경상남도  \n",
      "819    정몽혁, 김원갑, 장안석(각자대표이사)        http://www.hyundaicorp.co.kr  서울특별시  \n",
      "820         정몽혁, 김원갑(각자대표이사)  http://www.hyundaicorpholdings.com  서울특별시  \n",
      "821                 정서진, 장의호            http://www.hwashin.co.kr   경상북도  \n",
      "822                      이환구              http://www.heung-a.com  서울특별시  \n",
      "\n",
      "[823 rows x 9 columns]\n"
     ]
    }
   ],
   "source": [
    "aa = pd.read_csv(\"kospicode.csv\")\n",
    "print(aa)"
   ]
  },
  {
   "cell_type": "code",
   "execution_count": 2,
   "id": "230dcbf5",
   "metadata": {},
   "outputs": [
    {
     "name": "stdout",
     "output_type": "stream",
     "text": [
      "I like mango.\n"
     ]
    }
   ],
   "source": [
    "\n",
    "import googletrans \n",
    "translator = googletrans.Translator()\n",
    "\n",
    "kor_text = \"저는 망고를 좋아해요.\" \n",
    "result = translator.translate(kor_text, dest='en').text\n",
    "print(result)\n"
   ]
  },
  {
   "cell_type": "code",
   "execution_count": 3,
   "id": "108da789",
   "metadata": {},
   "outputs": [
    {
     "name": "stdout",
     "output_type": "stream",
     "text": [
      "                 High        Low       Open      Close    Volume  Adj Close\n",
      "Date                                                                       \n",
      "2020-01-09  71.433998  70.510498  71.096497  70.989502  33200000  70.989502\n",
      "2020-01-10  71.747002  70.980003  71.473503  71.447998  26258000  71.447998\n",
      "2020-01-13  72.073997  71.268501  71.762497  72.001503  30730000  72.001503\n",
      "2020-01-14  72.131500  71.388496  72.000000  71.529503  26076000  71.529503\n",
      "2020-01-15  72.039001  71.583000  71.651001  71.959999  21550000  71.959999\n",
      "2020-01-16  72.535004  72.000000  72.272499  72.508003  26080000  72.508003\n",
      "2020-01-17  74.027496  72.827499  73.126999  73.975998  52424000  73.975998\n",
      "2020-01-21  74.494003  73.510498  73.949997  74.112503  48930000  74.112503\n",
      "2020-01-22  75.028999  74.133003  74.486504  74.193497  28458000  74.193497\n"
     ]
    }
   ],
   "source": [
    "import pandas_datareader as data\n",
    "import datetime\n",
    "start_date = datetime.datetime(2020,1,10)\n",
    "end_date = datetime.datetime(2021,9,20)\n",
    "google_data = data.DataReader('GOOGL','yahoo', start_date, end_date)\n",
    "print(google_data.head(9))\n"
   ]
  },
  {
   "cell_type": "code",
   "execution_count": 30,
   "id": "423558ca",
   "metadata": {},
   "outputs": [],
   "source": [
    "import pandas as pd"
   ]
  },
  {
   "cell_type": "code",
   "execution_count": null,
   "id": "06528a1e",
   "metadata": {},
   "outputs": [],
   "source": []
  },
  {
   "cell_type": "code",
   "execution_count": 31,
   "id": "65d8ce8e",
   "metadata": {},
   "outputs": [],
   "source": [
    "google_data.to_csv(\"yahoofinance.csv\", index = False)"
   ]
  },
  {
   "cell_type": "code",
   "execution_count": 6,
   "id": "0a8f7b16",
   "metadata": {},
   "outputs": [
    {
     "data": {
      "text/plain": [
       "<AxesSubplot:xlabel='Date'>"
      ]
     },
     "execution_count": 6,
     "metadata": {},
     "output_type": "execute_result"
    },
    {
     "data": {
      "image/png": "[encoded data removed]",
      "text/plain": [
       "<Figure size 640x480 with 1 Axes>"
      ]
     },
     "metadata": {},
     "output_type": "display_data"
    }
   ],
   "source": [
    "google_data['Close'].plot() "
   ]
  },
  {
   "cell_type": "code",
   "execution_count": null,
   "id": "cec9bee4",
   "metadata": {},
   "outputs": [],
   "source": []
  },
  {
   "cell_type": "code",
   "execution_count": null,
   "id": "db3e6b1d",
   "metadata": {},
   "outputs": [],
   "source": []
  },
  {
   "cell_type": "code",
   "execution_count": null,
   "id": "bc1c7e1e",
   "metadata": {},
   "outputs": [],
   "source": []
  },
  {
   "cell_type": "code",
   "execution_count": null,
   "id": "667c79cc",
   "metadata": {},
   "outputs": [],
   "source": []
  },
  {
   "cell_type": "code",
   "execution_count": null,
   "id": "fa4f4399",
   "metadata": {},
   "outputs": [],
   "source": []
  },
  {
   "cell_type": "code",
   "execution_count": 42,
   "id": "e71c0430",
   "metadata": {},
   "outputs": [
    {
     "ename": "ProgrammingError",
     "evalue": "(1064, \"You have an error in your SQL syntax; check the manual that corresponds to your MySQL server version for the right syntax to use near '^KQ11.csv(Date int, Open text, High int, Low int, Close int, Adj Close int, PRIM' at line 1\")",
     "output_type": "error",
     "traceback": [
      "\u001b[0;31m---------------------------------------------------------------------------\u001b[0m",
      "\u001b[0;31mProgrammingError\u001b[0m                          Traceback (most recent call last)",
      "\u001b[0;32m/tmp/ipykernel_15112/2251897624.py\u001b[0m in \u001b[0;36m<module>\u001b[0;34m\u001b[0m\n\u001b[1;32m      3\u001b[0m \u001b[0mcursor\u001b[0m \u001b[0;34m=\u001b[0m \u001b[0mconnection\u001b[0m\u001b[0;34m.\u001b[0m\u001b[0mcursor\u001b[0m\u001b[0;34m(\u001b[0m\u001b[0;34m)\u001b[0m\u001b[0;34m\u001b[0m\u001b[0;34m\u001b[0m\u001b[0m\n\u001b[1;32m      4\u001b[0m \u001b[0msql\u001b[0m \u001b[0;34m=\u001b[0m \u001b[0;34m'CREATE TABLE '\u001b[0m \u001b[0;34m+\u001b[0m \u001b[0;34m'^KQ11.csv'\u001b[0m \u001b[0;34m+\u001b[0m \u001b[0;34m'(Date int, Open text, High int, Low int, Close int, Adj Close int, PRIMARY KEY (Open));'\u001b[0m\u001b[0;34m\u001b[0m\u001b[0;34m\u001b[0m\u001b[0m\n\u001b[0;32m----> 5\u001b[0;31m \u001b[0mcursor\u001b[0m\u001b[0;34m.\u001b[0m\u001b[0mexecute\u001b[0m\u001b[0;34m(\u001b[0m\u001b[0msql\u001b[0m\u001b[0;34m)\u001b[0m\u001b[0;34m\u001b[0m\u001b[0;34m\u001b[0m\u001b[0m\n\u001b[0m\u001b[1;32m      6\u001b[0m \u001b[0mconnection\u001b[0m\u001b[0;34m.\u001b[0m\u001b[0mclose\u001b[0m\u001b[0;34m(\u001b[0m\u001b[0;34m)\u001b[0m\u001b[0;34m\u001b[0m\u001b[0;34m\u001b[0m\u001b[0m\n",
      "\u001b[0;32m~/anaconda3/lib/python3.9/site-packages/pymysql/cursors.py\u001b[0m in \u001b[0;36mexecute\u001b[0;34m(self, query, args)\u001b[0m\n\u001b[1;32m    146\u001b[0m         \u001b[0mquery\u001b[0m \u001b[0;34m=\u001b[0m \u001b[0mself\u001b[0m\u001b[0;34m.\u001b[0m\u001b[0mmogrify\u001b[0m\u001b[0;34m(\u001b[0m\u001b[0mquery\u001b[0m\u001b[0;34m,\u001b[0m \u001b[0margs\u001b[0m\u001b[0;34m)\u001b[0m\u001b[0;34m\u001b[0m\u001b[0;34m\u001b[0m\u001b[0m\n\u001b[1;32m    147\u001b[0m \u001b[0;34m\u001b[0m\u001b[0m\n\u001b[0;32m--> 148\u001b[0;31m         \u001b[0mresult\u001b[0m \u001b[0;34m=\u001b[0m \u001b[0mself\u001b[0m\u001b[0;34m.\u001b[0m\u001b[0m_query\u001b[0m\u001b[0;34m(\u001b[0m\u001b[0mquery\u001b[0m\u001b[0;34m)\u001b[0m\u001b[0;34m\u001b[0m\u001b[0;34m\u001b[0m\u001b[0m\n\u001b[0m\u001b[1;32m    149\u001b[0m         \u001b[0mself\u001b[0m\u001b[0;34m.\u001b[0m\u001b[0m_executed\u001b[0m \u001b[0;34m=\u001b[0m \u001b[0mquery\u001b[0m\u001b[0;34m\u001b[0m\u001b[0;34m\u001b[0m\u001b[0m\n\u001b[1;32m    150\u001b[0m         \u001b[0;32mreturn\u001b[0m \u001b[0mresult\u001b[0m\u001b[0;34m\u001b[0m\u001b[0;34m\u001b[0m\u001b[0m\n",
      "\u001b[0;32m~/anaconda3/lib/python3.9/site-packages/pymysql/cursors.py\u001b[0m in \u001b[0;36m_query\u001b[0;34m(self, q)\u001b[0m\n\u001b[1;32m    308\u001b[0m         \u001b[0mself\u001b[0m\u001b[0;34m.\u001b[0m\u001b[0m_last_executed\u001b[0m \u001b[0;34m=\u001b[0m \u001b[0mq\u001b[0m\u001b[0;34m\u001b[0m\u001b[0;34m\u001b[0m\u001b[0m\n\u001b[1;32m    309\u001b[0m         \u001b[0mself\u001b[0m\u001b[0;34m.\u001b[0m\u001b[0m_clear_result\u001b[0m\u001b[0;34m(\u001b[0m\u001b[0;34m)\u001b[0m\u001b[0;34m\u001b[0m\u001b[0;34m\u001b[0m\u001b[0m\n\u001b[0;32m--> 310\u001b[0;31m         \u001b[0mconn\u001b[0m\u001b[0;34m.\u001b[0m\u001b[0mquery\u001b[0m\u001b[0;34m(\u001b[0m\u001b[0mq\u001b[0m\u001b[0;34m)\u001b[0m\u001b[0;34m\u001b[0m\u001b[0;34m\u001b[0m\u001b[0m\n\u001b[0m\u001b[1;32m    311\u001b[0m         \u001b[0mself\u001b[0m\u001b[0;34m.\u001b[0m\u001b[0m_do_get_result\u001b[0m\u001b[0;34m(\u001b[0m\u001b[0;34m)\u001b[0m\u001b[0;34m\u001b[0m\u001b[0;34m\u001b[0m\u001b[0m\n\u001b[1;32m    312\u001b[0m         \u001b[0;32mreturn\u001b[0m \u001b[0mself\u001b[0m\u001b[0;34m.\u001b[0m\u001b[0mrowcount\u001b[0m\u001b[0;34m\u001b[0m\u001b[0;34m\u001b[0m\u001b[0m\n",
      "\u001b[0;32m~/anaconda3/lib/python3.9/site-packages/pymysql/connections.py\u001b[0m in \u001b[0;36mquery\u001b[0;34m(self, sql, unbuffered)\u001b[0m\n\u001b[1;32m    546\u001b[0m             \u001b[0msql\u001b[0m \u001b[0;34m=\u001b[0m \u001b[0msql\u001b[0m\u001b[0;34m.\u001b[0m\u001b[0mencode\u001b[0m\u001b[0;34m(\u001b[0m\u001b[0mself\u001b[0m\u001b[0;34m.\u001b[0m\u001b[0mencoding\u001b[0m\u001b[0;34m,\u001b[0m \u001b[0;34m\"surrogateescape\"\u001b[0m\u001b[0;34m)\u001b[0m\u001b[0;34m\u001b[0m\u001b[0;34m\u001b[0m\u001b[0m\n\u001b[1;32m    547\u001b[0m         \u001b[0mself\u001b[0m\u001b[0;34m.\u001b[0m\u001b[0m_execute_command\u001b[0m\u001b[0;34m(\u001b[0m\u001b[0mCOMMAND\u001b[0m\u001b[0;34m.\u001b[0m\u001b[0mCOM_QUERY\u001b[0m\u001b[0;34m,\u001b[0m \u001b[0msql\u001b[0m\u001b[0;34m)\u001b[0m\u001b[0;34m\u001b[0m\u001b[0;34m\u001b[0m\u001b[0m\n\u001b[0;32m--> 548\u001b[0;31m         \u001b[0mself\u001b[0m\u001b[0;34m.\u001b[0m\u001b[0m_affected_rows\u001b[0m \u001b[0;34m=\u001b[0m \u001b[0mself\u001b[0m\u001b[0;34m.\u001b[0m\u001b[0m_read_query_result\u001b[0m\u001b[0;34m(\u001b[0m\u001b[0munbuffered\u001b[0m\u001b[0;34m=\u001b[0m\u001b[0munbuffered\u001b[0m\u001b[0;34m)\u001b[0m\u001b[0;34m\u001b[0m\u001b[0;34m\u001b[0m\u001b[0m\n\u001b[0m\u001b[1;32m    549\u001b[0m         \u001b[0;32mreturn\u001b[0m \u001b[0mself\u001b[0m\u001b[0;34m.\u001b[0m\u001b[0m_affected_rows\u001b[0m\u001b[0;34m\u001b[0m\u001b[0;34m\u001b[0m\u001b[0m\n\u001b[1;32m    550\u001b[0m \u001b[0;34m\u001b[0m\u001b[0m\n",
      "\u001b[0;32m~/anaconda3/lib/python3.9/site-packages/pymysql/connections.py\u001b[0m in \u001b[0;36m_read_query_result\u001b[0;34m(self, unbuffered)\u001b[0m\n\u001b[1;32m    773\u001b[0m         \u001b[0;32melse\u001b[0m\u001b[0;34m:\u001b[0m\u001b[0;34m\u001b[0m\u001b[0;34m\u001b[0m\u001b[0m\n\u001b[1;32m    774\u001b[0m             \u001b[0mresult\u001b[0m \u001b[0;34m=\u001b[0m \u001b[0mMySQLResult\u001b[0m\u001b[0;34m(\u001b[0m\u001b[0mself\u001b[0m\u001b[0;34m)\u001b[0m\u001b[0;34m\u001b[0m\u001b[0;34m\u001b[0m\u001b[0m\n\u001b[0;32m--> 775\u001b[0;31m             \u001b[0mresult\u001b[0m\u001b[0;34m.\u001b[0m\u001b[0mread\u001b[0m\u001b[0;34m(\u001b[0m\u001b[0;34m)\u001b[0m\u001b[0;34m\u001b[0m\u001b[0;34m\u001b[0m\u001b[0m\n\u001b[0m\u001b[1;32m    776\u001b[0m         \u001b[0mself\u001b[0m\u001b[0;34m.\u001b[0m\u001b[0m_result\u001b[0m \u001b[0;34m=\u001b[0m \u001b[0mresult\u001b[0m\u001b[0;34m\u001b[0m\u001b[0;34m\u001b[0m\u001b[0m\n\u001b[1;32m    777\u001b[0m         \u001b[0;32mif\u001b[0m \u001b[0mresult\u001b[0m\u001b[0;34m.\u001b[0m\u001b[0mserver_status\u001b[0m \u001b[0;32mis\u001b[0m \u001b[0;32mnot\u001b[0m \u001b[0;32mNone\u001b[0m\u001b[0;34m:\u001b[0m\u001b[0;34m\u001b[0m\u001b[0;34m\u001b[0m\u001b[0m\n",
      "\u001b[0;32m~/anaconda3/lib/python3.9/site-packages/pymysql/connections.py\u001b[0m in \u001b[0;36mread\u001b[0;34m(self)\u001b[0m\n\u001b[1;32m   1154\u001b[0m     \u001b[0;32mdef\u001b[0m \u001b[0mread\u001b[0m\u001b[0;34m(\u001b[0m\u001b[0mself\u001b[0m\u001b[0;34m)\u001b[0m\u001b[0;34m:\u001b[0m\u001b[0;34m\u001b[0m\u001b[0;34m\u001b[0m\u001b[0m\n\u001b[1;32m   1155\u001b[0m         \u001b[0;32mtry\u001b[0m\u001b[0;34m:\u001b[0m\u001b[0;34m\u001b[0m\u001b[0;34m\u001b[0m\u001b[0m\n\u001b[0;32m-> 1156\u001b[0;31m             \u001b[0mfirst_packet\u001b[0m \u001b[0;34m=\u001b[0m \u001b[0mself\u001b[0m\u001b[0;34m.\u001b[0m\u001b[0mconnection\u001b[0m\u001b[0;34m.\u001b[0m\u001b[0m_read_packet\u001b[0m\u001b[0;34m(\u001b[0m\u001b[0;34m)\u001b[0m\u001b[0;34m\u001b[0m\u001b[0;34m\u001b[0m\u001b[0m\n\u001b[0m\u001b[1;32m   1157\u001b[0m \u001b[0;34m\u001b[0m\u001b[0m\n\u001b[1;32m   1158\u001b[0m             \u001b[0;32mif\u001b[0m \u001b[0mfirst_packet\u001b[0m\u001b[0;34m.\u001b[0m\u001b[0mis_ok_packet\u001b[0m\u001b[0;34m(\u001b[0m\u001b[0;34m)\u001b[0m\u001b[0;34m:\u001b[0m\u001b[0;34m\u001b[0m\u001b[0;34m\u001b[0m\u001b[0m\n",
      "\u001b[0;32m~/anaconda3/lib/python3.9/site-packages/pymysql/connections.py\u001b[0m in \u001b[0;36m_read_packet\u001b[0;34m(self, packet_type)\u001b[0m\n\u001b[1;32m    723\u001b[0m             \u001b[0;32mif\u001b[0m \u001b[0mself\u001b[0m\u001b[0;34m.\u001b[0m\u001b[0m_result\u001b[0m \u001b[0;32mis\u001b[0m \u001b[0;32mnot\u001b[0m \u001b[0;32mNone\u001b[0m \u001b[0;32mand\u001b[0m \u001b[0mself\u001b[0m\u001b[0;34m.\u001b[0m\u001b[0m_result\u001b[0m\u001b[0;34m.\u001b[0m\u001b[0munbuffered_active\u001b[0m \u001b[0;32mis\u001b[0m \u001b[0;32mTrue\u001b[0m\u001b[0;34m:\u001b[0m\u001b[0;34m\u001b[0m\u001b[0;34m\u001b[0m\u001b[0m\n\u001b[1;32m    724\u001b[0m                 \u001b[0mself\u001b[0m\u001b[0;34m.\u001b[0m\u001b[0m_result\u001b[0m\u001b[0;34m.\u001b[0m\u001b[0munbuffered_active\u001b[0m \u001b[0;34m=\u001b[0m \u001b[0;32mFalse\u001b[0m\u001b[0;34m\u001b[0m\u001b[0;34m\u001b[0m\u001b[0m\n\u001b[0;32m--> 725\u001b[0;31m             \u001b[0mpacket\u001b[0m\u001b[0;34m.\u001b[0m\u001b[0mraise_for_error\u001b[0m\u001b[0;34m(\u001b[0m\u001b[0;34m)\u001b[0m\u001b[0;34m\u001b[0m\u001b[0;34m\u001b[0m\u001b[0m\n\u001b[0m\u001b[1;32m    726\u001b[0m         \u001b[0;32mreturn\u001b[0m \u001b[0mpacket\u001b[0m\u001b[0;34m\u001b[0m\u001b[0;34m\u001b[0m\u001b[0m\n\u001b[1;32m    727\u001b[0m \u001b[0;34m\u001b[0m\u001b[0m\n",
      "\u001b[0;32m~/anaconda3/lib/python3.9/site-packages/pymysql/protocol.py\u001b[0m in \u001b[0;36mraise_for_error\u001b[0;34m(self)\u001b[0m\n\u001b[1;32m    219\u001b[0m         \u001b[0;32mif\u001b[0m \u001b[0mDEBUG\u001b[0m\u001b[0;34m:\u001b[0m\u001b[0;34m\u001b[0m\u001b[0;34m\u001b[0m\u001b[0m\n\u001b[1;32m    220\u001b[0m             \u001b[0mprint\u001b[0m\u001b[0;34m(\u001b[0m\u001b[0;34m\"errno =\"\u001b[0m\u001b[0;34m,\u001b[0m \u001b[0merrno\u001b[0m\u001b[0;34m)\u001b[0m\u001b[0;34m\u001b[0m\u001b[0;34m\u001b[0m\u001b[0m\n\u001b[0;32m--> 221\u001b[0;31m         \u001b[0merr\u001b[0m\u001b[0;34m.\u001b[0m\u001b[0mraise_mysql_exception\u001b[0m\u001b[0;34m(\u001b[0m\u001b[0mself\u001b[0m\u001b[0;34m.\u001b[0m\u001b[0m_data\u001b[0m\u001b[0;34m)\u001b[0m\u001b[0;34m\u001b[0m\u001b[0;34m\u001b[0m\u001b[0m\n\u001b[0m\u001b[1;32m    222\u001b[0m \u001b[0;34m\u001b[0m\u001b[0m\n\u001b[1;32m    223\u001b[0m     \u001b[0;32mdef\u001b[0m \u001b[0mdump\u001b[0m\u001b[0;34m(\u001b[0m\u001b[0mself\u001b[0m\u001b[0;34m)\u001b[0m\u001b[0;34m:\u001b[0m\u001b[0;34m\u001b[0m\u001b[0;34m\u001b[0m\u001b[0m\n",
      "\u001b[0;32m~/anaconda3/lib/python3.9/site-packages/pymysql/err.py\u001b[0m in \u001b[0;36mraise_mysql_exception\u001b[0;34m(data)\u001b[0m\n\u001b[1;32m    141\u001b[0m     \u001b[0;32mif\u001b[0m \u001b[0merrorclass\u001b[0m \u001b[0;32mis\u001b[0m \u001b[0;32mNone\u001b[0m\u001b[0;34m:\u001b[0m\u001b[0;34m\u001b[0m\u001b[0;34m\u001b[0m\u001b[0m\n\u001b[1;32m    142\u001b[0m         \u001b[0merrorclass\u001b[0m \u001b[0;34m=\u001b[0m \u001b[0mInternalError\u001b[0m \u001b[0;32mif\u001b[0m \u001b[0merrno\u001b[0m \u001b[0;34m<\u001b[0m \u001b[0;36m1000\u001b[0m \u001b[0;32melse\u001b[0m \u001b[0mOperationalError\u001b[0m\u001b[0;34m\u001b[0m\u001b[0;34m\u001b[0m\u001b[0m\n\u001b[0;32m--> 143\u001b[0;31m     \u001b[0;32mraise\u001b[0m \u001b[0merrorclass\u001b[0m\u001b[0;34m(\u001b[0m\u001b[0merrno\u001b[0m\u001b[0;34m,\u001b[0m \u001b[0merrval\u001b[0m\u001b[0;34m)\u001b[0m\u001b[0;34m\u001b[0m\u001b[0;34m\u001b[0m\u001b[0m\n\u001b[0m",
      "\u001b[0;31mProgrammingError\u001b[0m: (1064, \"You have an error in your SQL syntax; check the manual that corresponds to your MySQL server version for the right syntax to use near '^KQ11.csv(Date int, Open text, High int, Low int, Close int, Adj Close int, PRIM' at line 1\")"
     ]
    }
   ],
   "source": [
    "import pymysql\n",
    "connection = pymysql.connect(host='localhost', user='root', password='dps6ra', db='ari_DB', charset='utf8', autocommit=True, cursorclass = pymysql.cursors.DictCursor) \n",
    "cursor = connection.cursor()\n",
    "sql = 'CREATE TABLE ' + '^KQ11.csv' + '(Date int, Open text, High int, Low int, Close int, Adj Close int, PRIMARY KEY (Open));'\n",
    "cursor.execute(sql)\n",
    "connection.close()"
   ]
  },
  {
   "cell_type": "code",
   "execution_count": 25,
   "id": "c212e332",
   "metadata": {},
   "outputs": [
    {
     "name": "stdout",
     "output_type": "stream",
     "text": [
      "<pymysql.connections.Connection object at 0x7f6bae0f75e0>\n"
     ]
    }
   ],
   "source": [
    "print(connection)"
   ]
  },
  {
   "cell_type": "code",
   "execution_count": 47,
   "id": "166728f9",
   "metadata": {},
   "outputs": [
    {
     "ename": "SyntaxError",
     "evalue": "EOL while scanning string literal (431406267.py, line 4)",
     "output_type": "error",
     "traceback": [
      "\u001b[0;36m  File \u001b[0;32m\"/tmp/ipykernel_15112/431406267.py\"\u001b[0;36m, line \u001b[0;32m4\u001b[0m\n\u001b[0;31m    sql = 'CREATE TABLE ' + 'OxCGRT_vaccines_full.csv' + '( CountryName text, CountryCode text, PRIMARY KEY (CountryName));’\u001b[0m\n\u001b[0m                                                                                                                            ^\u001b[0m\n\u001b[0;31mSyntaxError\u001b[0m\u001b[0;31m:\u001b[0m EOL while scanning string literal\n"
     ]
    }
   ],
   "source": [
    "import pymysql\n",
    "connection = pymysql.connect(host='localhost', user='root', password='dps6ra', db='ari_DB', charset='utf8', autocommit=True, cursorclass = pymysql.cursors.DictCursor) \n",
    "cursor = connection.cursor()\n",
    "sql = 'CREATE TABLE ' + 'OxCGRT_vaccines_full.csv' + '( CountryName text, CountryCode text, PRIMARY KEY (CountryName));’\n",
    "\n",
    "cursor.execute(sql)\n",
    "connection.close()"
   ]
  },
  {
   "cell_type": "code",
   "execution_count": 43,
   "id": "6550af30",
   "metadata": {},
   "outputs": [
    {
     "ename": "SyntaxError",
     "evalue": "invalid syntax (3119045308.py, line 1)",
     "output_type": "error",
     "traceback": [
      "\u001b[0;36m  File \u001b[0;32m\"/tmp/ipykernel_15112/3119045308.py\"\u001b[0;36m, line \u001b[0;32m1\u001b[0m\n\u001b[0;31m    SELECT name, dept_cd, phone, address FROM class.select_test\u001b[0m\n\u001b[0m           ^\u001b[0m\n\u001b[0;31mSyntaxError\u001b[0m\u001b[0;31m:\u001b[0m invalid syntax\n"
     ]
    }
   ],
   "source": [
    "SELECT year, month FROM time_series_covid19_confirmed_global\n",
    "INTO OUTFILE 'select_test.csv'\n",
    "FIELDS TERMINATED BY ','\n",
    "LINES TERMINATED BY '\\n';"
   ]
  },
  {
   "cell_type": "code",
   "execution_count": null,
   "id": "7d3b7532",
   "metadata": {},
   "outputs": [],
   "source": [
    "INTO TABLE vaccine_table FIELDS TERMINATED BY ',' ENCLOSED BY '\"'\n",
    "출처: https://sangmin-kim.tistory.com/101 [Enjoy what you do!:티스토리]\n",
    "        LINES TERMINATED BY '\\n' (name,synonyms,efficacy,howtouse,precaution,url,imageurl); \n",
    "출처: https://sangmin-kim.tistory.com/101 [Enjoy what you do!:티스토리]"
   ]
  },
  {
   "cell_type": "code",
   "execution_count": null,
   "id": "8510c5df",
   "metadata": {},
   "outputs": [],
   "source": [
    "LINES TERMINATED BY '\\n' (Province/States,Country/Region,Lat,Long); "
   ]
  }
 ],
 "metadata": {
  "kernelspec": {
   "display_name": "Python 3 (ipykernel)",
   "language": "python",
   "name": "python3"
  },
  "language_info": {
   "codemirror_mode": {
    "name": "ipython",
    "version": 3
   },
   "file_extension": ".py",
   "mimetype": "text/x-python",
   "name": "python",
   "nbconvert_exporter": "python",
   "pygments_lexer": "ipython3",
   "version": "3.9.13"
  }
 },
 "nbformat": 4,
 "nbformat_minor": 5
}
