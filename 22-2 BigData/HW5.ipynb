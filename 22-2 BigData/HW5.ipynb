{
 "cells": [
  {
   "cell_type": "code",
   "execution_count": 14,
   "id": "f06a1450",
   "metadata": {},
   "outputs": [],
   "source": [
    "import numpy as np\n",
    "\n",
    "def norm_V(p1, p2): \n",
    "    h = np.cross(p1, p2)\n",
    "    H = h/np.linalg.norm(h)\n",
    "    return H\n",
    "\n",
    "#  Rotation angle between 2 Vecs\n",
    "\n",
    "def roatationTheta(h1, h2):\n",
    "    return np.arccos(np.dot(h1,h2)/(np.linalg.norm(h1)*np.linalg.norm(h2)))\n",
    "\n",
    "# Rotation matrix\n",
    "def rotationMatrix(vec1, vec2):\n",
    "\n",
    "    H = norm_V(vec1, vec2)\n",
    "\n",
    "    theta = roatationTheta(vec1, vec2)\n",
    "\n",
    "    cos = np.cos(theta)\n",
    "    sin = np.sin(theta)\n",
    "    ux, uy, uz = H\n",
    "\n",
    "    R = np.array([(cos + (ux ** 2) * (1 - cos), ux * uy * (1 - cos) - uz * sin, ux * uz * (1 - cos) + uy * sin),\n",
    "                  (uy * ux * (1 - cos) + uz * sin, cos + (uy ** 2) * (1 - cos), uy * uz * (1 - cos) - ux * sin),\n",
    "                  (uz * ux * (1 - cos) - uy * sin, uz * uy * (1 - cos) + ux * sin, cos + (uz ** 2) * (1 - cos))])\n",
    "    return R\n",
    "\n",
    "# Rotation\n",
    "def rotationPos(rotatePos, originPos, comparePos, r1, r2=None):\n",
    "    originPos = rotatePos -originPos\n",
    "    rotationVec = r2 @ r1 @ originPos if r2 is not None else r1 @ originPos\n",
    "\n",
    "    return rotationVec + comparePos\n",
    "\n"
   ]
  },
  {
   "cell_type": "code",
   "execution_count": 15,
   "id": "7550a714",
   "metadata": {},
   "outputs": [],
   "source": [
    "# 문제에서 주어진 좌표 값 입력 (P1~P3)\n",
    "originPos = np.array([(-0.500000,\t0.000000,\t2.121320),\n",
    "                       (0.500000,\t0.000000,\t2.121320),\n",
    "                       (0.500000,\t-0.707107,\t2.828427)])\n",
    "\n",
    "comparePos = np.array([(1.363005,\t-0.427130,\t2.339082),\n",
    "                        (1.748084,\t0.437983,\t2.017688),\n",
    "                        (2.636461,\t0.184843,\t2.400710)])"
   ]
  },
  {
   "cell_type": "code",
   "execution_count": 16,
   "id": "2e412a9d",
   "metadata": {},
   "outputs": [],
   "source": [
    "\n",
    "# A, A'의 평면의 법선 벡터\n",
    "originH = np.cross((originPos[1]-originPos[0]),\n",
    "                   (originPos[2]-originPos[0]))\n",
    "compareH = np.cross((comparePos[1]-comparePos[0]), \n",
    "                    (comparePos[2]-comparePos[0]))\n",
    "\n",
    "# Find  the angle & Matrix\n",
    "\n",
    "theta = roatationTheta(originH, compareH)\n",
    "r1 = rotationMatrix(originH, compareH)\n",
    "\n",
    "\n",
    "# angle A (P1, P3) -> A' (P1', P3')\n",
    "\n",
    "r1_p1p3 = r1@(originPos[2]-originPos[0])\n",
    "p1p3 = comparePos[2]-comparePos[0]\n",
    "r2 = rotationMatrix(r1_p1p3, p1p3)\n",
    "\n",
    "\n",
    "originP4 = np.array((0.500000, 0.707107, 2.828427))\n",
    "compareP4 = np.array((1.498100, 0.871000, 2.883700))\n",
    "\n",
    "\n"
   ]
  },
  {
   "cell_type": "code",
   "execution_count": 19,
   "id": "3a6c3c46",
   "metadata": {},
   "outputs": [
    {
     "name": "stdout",
     "output_type": "stream",
     "text": [
      "P4 : [1.49808397 0.8709958  2.8837137 ]\n",
      "P4' : [1.4981 0.871  2.8837]\n"
     ]
    }
   ],
   "source": [
    "\n",
    "# P4가 제대로 P4'로 변환되는지 확인하기\n",
    "rotationP4 = rotationPos(originP4, originPos[0], comparePos[0], r1, r2)\n",
    "print(f\"P4 : {rotationP4}\")\n",
    "print(f\"P4' : {compareP4}\")\n",
    "\n"
   ]
  },
  {
   "cell_type": "code",
   "execution_count": 20,
   "id": "7dbc1138",
   "metadata": {},
   "outputs": [
    {
     "name": "stdout",
     "output_type": "stream",
     "text": [
      "P5'의 좌표 : [0.62950355 1.21310207 1.20816515]\n"
     ]
    }
   ],
   "source": [
    "\n",
    "# P5' Solution \n",
    "\n",
    "originP5 = np.array((1.000000, 1.000000, 1.000000))\n",
    "rotationP5 = rotationPos(originP5, originPos[0], comparePos[0], r1, r2)\n",
    "print(f\"P5'의 좌표 : {rotationP5}\") "
   ]
  }
 ],
 "metadata": {
  "kernelspec": {
   "display_name": "Python 3 (ipykernel)",
   "language": "python",
   "name": "python3"
  },
  "language_info": {
   "codemirror_mode": {
    "name": "ipython",
    "version": 3
   },
   "file_extension": ".py",
   "mimetype": "text/x-python",
   "name": "python",
   "nbconvert_exporter": "python",
   "pygments_lexer": "ipython3",
   "version": "3.9.13"
  }
 },
 "nbformat": 4,
 "nbformat_minor": 5
}
